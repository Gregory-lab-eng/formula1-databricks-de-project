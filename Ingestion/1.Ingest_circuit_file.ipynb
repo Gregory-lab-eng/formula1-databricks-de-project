{
 "cells": [
  {
   "cell_type": "code",
   "execution_count": 0,
   "metadata": {
    "application/vnd.databricks.v1+cell": {
     "cellMetadata": {
      "byteLimit": 2048000,
      "rowLimit": 10000
     },
     "inputWidgets": {},
     "nuid": "80e1e193-489b-42eb-9be8-d8a7f6ab2a89",
     "showTitle": false,
     "tableResultSettingsMap": {},
     "title": ""
    }
   },
   "outputs": [],
   "source": [
    "dbutils.fs.ls(\"abfss://raw@1formula1dl11.dfs.core.windows.net\")"
   ]
  },
  {
   "cell_type": "code",
   "execution_count": 0,
   "metadata": {
    "application/vnd.databricks.v1+cell": {
     "cellMetadata": {
      "byteLimit": 2048000,
      "rowLimit": 10000
     },
     "inputWidgets": {},
     "nuid": "6fa6855c-e28d-457c-9d84-6784dfc38c8b",
     "showTitle": false,
     "tableResultSettingsMap": {},
     "title": ""
    }
   },
   "outputs": [],
   "source": [
    "from pyspark.sql.types import StructType, StructField, IntegerType, StringType, DoubleType\n",
    "cuircuits_schema = StructType(fields=[StructField(\"circuitId\", IntegerType(), False),\n",
    "                                      StructField(\"circuitRef\", StringType(), True),\n",
    "                                      StructField(\"name\", StringType(), True),\n",
    "                                      StructField(\"location\", StringType(), True),\n",
    "                                      StructField(\"country\", StringType(), True),\n",
    "                                      StructField(\"lat\", DoubleType(), True),\n",
    "                                      StructField(\"lng\", DoubleType(), True),\n",
    "                                      StructField(\"alt\", IntegerType(), True),\n",
    "                                      StructField(\"url\", StringType(), True)])\n",
    "cuircuits_df = spark.read \\\n",
    ".schema(cuircuits_schema ) \\\n",
    ".option(\"header\", \"true\") \\\n",
    ".csv(\"abfss://raw@1formula1dl11.dfs.core.windows.net/circuits.csv\")\n",
    "\n",
    "cuircuits_df.show(10)\n",
    "cuircuits_df.printSchema()"
   ]
  },
  {
   "cell_type": "code",
   "execution_count": 0,
   "metadata": {
    "application/vnd.databricks.v1+cell": {
     "cellMetadata": {
      "byteLimit": 2048000,
      "rowLimit": 10000
     },
     "inputWidgets": {},
     "nuid": "e6c70d65-c40a-476a-9388-85820bfa9a32",
     "showTitle": false,
     "tableResultSettingsMap": {},
     "title": ""
    }
   },
   "outputs": [],
   "source": [
    "from pyspark.sql.functions import col, current_timestamp\n",
    "\n",
    "column_select_df = cuircuits_df.select(col(\"name\"), col(\"circuitId\"), col(\"circuitRef\"), col(\"location\"), col(\"country\"), col(\"lat\"), col(\"lng\"), col(\"alt\"))\n",
    "\n",
    "column_rename_df = column_select_df.withColumnRenamed(\"circuitId\", \"circuit_id\") \\\n",
    ".withColumnRenamed(\"circuitRef\", \"circuit_ref\") \\\n",
    ".withColumnRenamed(\"lat\", \"latitude\") \\\n",
    ".withColumnRenamed(\"lng\", \"longitude\") \\\n",
    ".withColumnRenamed(\"alt\", \"altitude\") \\\n",
    ".withColumn(\"ingestion_date\", current_timestamp())\n",
    "\n",
    "\n",
    "column_rename_df.show(10)"
   ]
  },
  {
   "cell_type": "code",
   "execution_count": 0,
   "metadata": {
    "application/vnd.databricks.v1+cell": {
     "cellMetadata": {
      "byteLimit": 2048000,
      "rowLimit": 10000
     },
     "inputWidgets": {},
     "nuid": "b9ea1977-da63-4541-87bb-1aecabdbd15c",
     "showTitle": false,
     "tableResultSettingsMap": {},
     "title": ""
    }
   },
   "outputs": [],
   "source": [
    "column_rename_df.write.mode(\"overwrite\").parquet(\"abfss://processed@1formula1dl11.dfs.core.windows.net/circuits\")\n",
    "display(dbutils.fs.ls(\"abfss://processed@1formula1dl11.dfs.core.windows.net/circuits\"))"
   ]
  },
  {
   "cell_type": "code",
   "execution_count": 0,
   "metadata": {
    "application/vnd.databricks.v1+cell": {
     "cellMetadata": {},
     "inputWidgets": {},
     "nuid": "73d44e10-a0a7-4ac5-b82c-22d5fcfb4457",
     "showTitle": false,
     "tableResultSettingsMap": {},
     "title": ""
    }
   },
   "outputs": [],
   "source": []
  }
 ],
 "metadata": {
  "application/vnd.databricks.v1+notebook": {
   "computePreferences": null,
   "dashboards": [],
   "environmentMetadata": {
    "base_environment": "",
    "environment_version": "3"
   },
   "inputWidgetPreferences": null,
   "language": "python",
   "notebookMetadata": {
    "pythonIndentUnit": 4
   },
   "notebookName": "1.Ingest_circuit_file",
   "widgets": {}
  },
  "language_info": {
   "name": "python"
  }
 },
 "nbformat": 4,
 "nbformat_minor": 0
}

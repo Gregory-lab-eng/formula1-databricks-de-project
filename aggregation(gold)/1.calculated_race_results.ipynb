{
 "cells": [
  {
   "cell_type": "code",
   "execution_count": 0,
   "metadata": {
    "application/vnd.databricks.v1+cell": {
     "cellMetadata": {
      "byteLimit": 2048000,
      "rowLimit": 10000
     },
     "inputWidgets": {},
     "nuid": "093d33ce-2b82-43a8-92d3-75924621b868",
     "showTitle": false,
     "tableResultSettingsMap": {},
     "title": ""
    }
   },
   "outputs": [],
   "source": [
    "USE f1_processed;"
   ]
  },
  {
   "cell_type": "code",
   "execution_count": 0,
   "metadata": {
    "application/vnd.databricks.v1+cell": {
     "cellMetadata": {
      "byteLimit": 2048000,
      "rowLimit": 10000
     },
     "inputWidgets": {},
     "nuid": "84bcc83d-cad9-4e73-bc14-78ea04b192cc",
     "showTitle": false,
     "tableResultSettingsMap": {},
     "title": ""
    }
   },
   "outputs": [],
   "source": [
    "CREATE TABLE IF NOT EXISTS f1_presentation.calculated_race_results\n",
    "USING delta\n",
    "AS\n",
    "SELECT races.year AS race_year,\n",
    "       constructors.name AS team_name,\n",
    "       drivers.name AS driver_name,\n",
    "       results.position,\n",
    "       results.points,\n",
    "       11 - results.position AS calculated_points\n",
    "  FROM results\n",
    "  JOIN drivers ON (results.driver_id = drivers.driver_id)\n",
    "  JOIN races ON (results.race_id = races.race_id)\n",
    "  JOIN circuits ON (races.circuit_id = circuits.circuit_id)\n",
    "  JOIN constructors ON (results.constructor_id = constructors.constructor_id)\n",
    "WHERE results.position <=10  "
   ]
  },
  {
   "cell_type": "code",
   "execution_count": 0,
   "metadata": {
    "application/vnd.databricks.v1+cell": {
     "cellMetadata": {
      "byteLimit": 2048000,
      "rowLimit": 10000
     },
     "inputWidgets": {},
     "nuid": "83acd533-ec78-4728-ae6a-f25bc4e70b16",
     "showTitle": false,
     "tableResultSettingsMap": {},
     "title": ""
    }
   },
   "outputs": [],
   "source": [
    "SELECT *\n",
    "FROM f1_presentation.calculated_race_results"
   ]
  },
  {
   "cell_type": "code",
   "execution_count": 0,
   "metadata": {
    "application/vnd.databricks.v1+cell": {
     "cellMetadata": {},
     "inputWidgets": {},
     "nuid": "bcafea04-b5e5-4c48-9ad1-20f65c925937",
     "showTitle": false,
     "tableResultSettingsMap": {},
     "title": ""
    }
   },
   "outputs": [],
   "source": []
  }
 ],
 "metadata": {
  "application/vnd.databricks.v1+notebook": {
   "computePreferences": null,
   "dashboards": [],
   "environmentMetadata": {
    "base_environment": "",
    "environment_version": "3"
   },
   "inputWidgetPreferences": null,
   "language": "sql",
   "notebookMetadata": {
    "pythonIndentUnit": 4
   },
   "notebookName": "1.calculated_race_results",
   "widgets": {}
  },
  "language_info": {
   "name": "sql"
  }
 },
 "nbformat": 4,
 "nbformat_minor": 0
}
